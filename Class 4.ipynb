{
 "cells": [
  {
   "cell_type": "markdown",
   "id": "de2ddb9c-6996-4f34-a630-d7d7a5589f0f",
   "metadata": {},
   "source": [
    "## Doubly Linked Lists"
   ]
  },
  {
   "cell_type": "code",
   "execution_count": 2,
   "id": "f1bc522e-0e45-4977-976d-5387209a7bb6",
   "metadata": {},
   "outputs": [],
   "source": [
    "class DoublyLinkedList:\n",
    "    def __init__(self):\n",
    "        self.head = None\n",
    "        #it is possible to add tail node, but becomes more complex\n",
    "    class __Node:\n",
    "        def __init__(self, data):\n",
    "            self.data = data\n",
    "            self.prev = None\n",
    "            self.next = None\n",
    "\n",
    "    def append(self, value):\n",
    "        new_node = self.__Node(value)\n",
    "        if not self.head:\n",
    "            self.head = new_node\n",
    "        else:\n",
    "            current = self.head\n",
    "            while current.next:\n",
    "                current = current.next\n",
    "            current.next = new_node\n",
    "            new_node.prev =  current\n",
    "\n",
    "    def remove(self, value):\n",
    "        msg =\"Value not found\"\n",
    "        found=False\n",
    "        if not self.head:\n",
    "            msg=\"Empty List\"\n",
    "        else:\n",
    "            current = self.head\n",
    "            while current.next:\n",
    "                if current.data == value:\n",
    "                    found= True\n",
    "                    break\n",
    "                current=current.next\n",
    "            if found:\n",
    "                prev_node=current.prev\n",
    "                next_node = current.next\n",
    "                if prev_node and next_node: #or if prev_node and next_node is not None\n",
    "                    prev_node.next=next_node\n",
    "                    next_node.prev =  prev_node\n",
    "                elif prev_node:\n",
    "                    prev_node.next=next_node\n",
    "                else:\n",
    "                    self.head = self.head.next\n",
    "        if not found:\n",
    "            raise ValueError(msg)\n",
    "                    "
   ]
  },
  {
   "cell_type": "markdown",
   "id": "f0808444-2980-40d5-96eb-fece59cb9647",
   "metadata": {},
   "source": [
    "## Recursion"
   ]
  },
  {
   "cell_type": "code",
   "execution_count": 2,
   "id": "197d6f66-6134-449d-bcf8-041b79caa131",
   "metadata": {},
   "outputs": [],
   "source": [
    "def factorial(n):\n",
    "    if n == 0:\n",
    "        return 1\n",
    "    return n*factorial(n-1)"
   ]
  },
  {
   "cell_type": "code",
   "execution_count": 3,
   "id": "b63c40fe-60bb-4960-8402-2e616e9d6285",
   "metadata": {},
   "outputs": [
    {
     "data": {
      "text/plain": [
       "120"
      ]
     },
     "execution_count": 3,
     "metadata": {},
     "output_type": "execute_result"
    }
   ],
   "source": [
    "factorial(5)"
   ]
  },
  {
   "cell_type": "code",
   "execution_count": 4,
   "id": "ddd9e54a-e2bc-410d-b7a0-2d4189a11478",
   "metadata": {},
   "outputs": [],
   "source": [
    "def factorial_i(n):\n",
    "    result=1\n",
    "    while n:\n",
    "        result *=n\n",
    "        n-=1\n",
    "    return result"
   ]
  },
  {
   "cell_type": "code",
   "execution_count": 7,
   "id": "2288bea1-6dc9-4b05-8116-e3a14363d3c6",
   "metadata": {},
   "outputs": [],
   "source": [
    "#recursive function problems\n",
    "#Memoization using python built-ins\n",
    "from functools import lru_cache\n",
    "\n",
    "@lru_cache\n",
    "def fib(n):\n",
    "    if n<2:\n",
    "        return n\n",
    "    return fib(n-1) + fib(n-2)"
   ]
  },
  {
   "cell_type": "code",
   "execution_count": 8,
   "id": "ff185bd6-7704-4f71-83fa-ea09aaa107a4",
   "metadata": {},
   "outputs": [
    {
     "data": {
      "text/plain": [
       "12586269025"
      ]
     },
     "execution_count": 8,
     "metadata": {},
     "output_type": "execute_result"
    }
   ],
   "source": [
    "fib(50)"
   ]
  },
  {
   "cell_type": "code",
   "execution_count": 2,
   "id": "eec1bf30-1972-4da3-881c-5ca4cb26fcc5",
   "metadata": {},
   "outputs": [],
   "source": [
    "# complex solution to caching (from scratch)\n",
    "#class HashTable\n",
    "\n",
    "#less complex solution\n",
    "#use a dictionary to do the following: \n",
    "#If the parameter to a function is in the dictionary's keys, then return the value\n",
    "# if the parameter to a function is not in the dictionary keys, call the function but store the key and value in the dictionary\n",
    "\n",
    "# re-design our fibonacci function considering this\n",
    "#establish tracking the steps or operations (the operation, and the result)\n",
    "#before the function is called, check the operation, if found, get the value\n",
    "#if not found, calculate it, and add the operation and value so it can be used again\n",
    "data = {8:21, 7:13, 6:8, 5:5}\n",
    "def check_key(num):\n",
    "    val= data.get(num)\n",
    "    if val:\n",
    "        return val\n",
    "    else:\n",
    "        result = fibbonacci(num)\n",
    "        data[num] = result\n",
    "        return result\n",
    "\n",
    "def fibbonacci(n):\n",
    "    if n<= 0: #okay we know the first two steps in a fib function are always 0 for 0 and 1 for 1\n",
    "        return 0\n",
    "    elif n==1:\n",
    "        return 1\n",
    "    else:\n",
    "        return check_key(n-1) + check_key(n-2)\n",
    "        \n",
    "#I'm guessing the bonus is to implement the hash table for memoization of the fib function, so...\n",
    "#I'll try with pseudo code:\n",
    "#change the fibonacci function to always create an instance of the hash table class\n",
    "#for N (so not for 0 or 1 because those will be 0 and 1 and don't require calculation)\n",
    "#for N we'll use the hash table get method, see if n is in the hash table, if it is, return it\n",
    "#if n is not in the hash table class, then run fibbonacci n-1, + n-2, and put it in the hash table, then return the value\n",
    "\n",
    "\n",
    "class HashTable:\n",
    "    def __init__(self, size):\n",
    "        self.size = size\n",
    "        self.slots = [None] * self.size\n",
    "        self.data = [None] * self.size\n",
    "\n",
    "    def put(self, key, data):\n",
    "        hashvalue = self.hashfunction(key, len(self.slots))\n",
    "        if self.slots[hashvalue] == None:\n",
    "            self.slots[hashvalue] = key\n",
    "            self.data[hashvalue] = data\n",
    "        else:\n",
    "            if self.slots[hashvalue] ==key:\n",
    "                self.data[hashvalue] = data\n",
    "            else:\n",
    "                nextslot = self.rehash(hashvalue, len(self.slots))\n",
    "                while self.slots[nextslot] != None and self.slots[nextslot] !=key:\n",
    "                    if self.slots[nextslot] ==None:\n",
    "                        self.slots[nextslot] = key\n",
    "                        self.data[nextslot] =data\n",
    "                    else:\n",
    "                        self.data[nextslot] = data\n",
    "\n",
    "def rehash(self, oldhash, size):\n",
    "    return (oldhash+1)%size\n",
    "\n",
    "def get(self,key):\n",
    "    startslot = self.hashfunction(key, len(self.slots))\n",
    "    data = None\n",
    "    stop = False\n",
    "    found = False\n",
    "    position = startslot\n",
    "\n",
    "    while self.slots[position] != None and not found and not stop:\n",
    "        if self.slots[position] == key:\n",
    "            found = True\n",
    "            data = self.data[position]\n",
    "        else:\n",
    "            position = self.rehash(position, len(self.slots))\n",
    "            if position ==  startslot:\n",
    "                stop= True\n",
    "    return data\n",
    "\n",
    "def __getitem__(self,key):\n",
    "    return self.get(key)\n",
    "\n",
    "def __setitem__(self, key, data):\n",
    "    self.put(key, data)\n",
    "    "
   ]
  },
  {
   "cell_type": "code",
   "execution_count": null,
   "id": "96322fd0-8b95-4811-997f-932cace443e0",
   "metadata": {},
   "outputs": [],
   "source": []
  }
 ],
 "metadata": {
  "kernelspec": {
   "display_name": "Python 3 (ipykernel)",
   "language": "python",
   "name": "python3"
  },
  "language_info": {
   "codemirror_mode": {
    "name": "ipython",
    "version": 3
   },
   "file_extension": ".py",
   "mimetype": "text/x-python",
   "name": "python",
   "nbconvert_exporter": "python",
   "pygments_lexer": "ipython3",
   "version": "3.10.6"
  }
 },
 "nbformat": 4,
 "nbformat_minor": 5
}
