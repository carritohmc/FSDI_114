{
 "cells": [
  {
   "cell_type": "markdown",
   "id": "6125db34-0d3b-400c-8d39-f52546741d2c",
   "metadata": {},
   "source": [
    "# Class 2: Stacks and Queues"
   ]
  },
  {
   "cell_type": "code",
   "execution_count": 1,
   "id": "876508f3-e7a9-4c77-8736-ddf1bab9d3bb",
   "metadata": {},
   "outputs": [],
   "source": [
    "# Simplified implementation of stack (relying on built-in data structures)\n",
    "\n",
    "class Stack:\n",
    "    def __init__(self):\n",
    "        self.items = []\n",
    "\n",
    "    def push(self, element):\n",
    "        self.items.append(element)\n",
    "\n",
    "    def pop(self):\n",
    "        return self.items.pop()\n",
    "\n",
    "#nice to have methods:\n",
    "    def size(self):\n",
    "        return len(self.items)\n",
    "\n",
    "    def is_empty(self):\n",
    "        return self.items == []\n",
    "\n",
    "    def peek(self):\n",
    "        return self.items[len(self.items-1)]"
   ]
  },
  {
   "cell_type": "code",
   "execution_count": 4,
   "id": "385057ff-6189-4163-b216-a4ab1e50631c",
   "metadata": {},
   "outputs": [
    {
     "name": "stdout",
     "output_type": "stream",
     "text": [
      "tseT\n"
     ]
    }
   ],
   "source": [
    "\n",
    "def invert_str(mystring):\n",
    "    stack = Stack()\n",
    "\n",
    "    for char in mystring:\n",
    "        stack.push(char)\n",
    "\n",
    "        \n",
    "    newString=\"\"\n",
    "\n",
    "    while not stack.is_empty():\n",
    "        newString+=stack.pop()\n",
    "\n",
    "    return newString\n",
    "\n",
    "mystring = \"Test\"\n",
    "newString = invert_str(mystring)\n",
    "print(newString)"
   ]
  },
  {
   "cell_type": "code",
   "execution_count": 5,
   "id": "84dd4c9e-235f-4119-b234-55a5efa8eacb",
   "metadata": {},
   "outputs": [],
   "source": [
    "#From Scratch  implementation of Stack\n",
    "\n",
    "class StackII:\n",
    "    def __init__(self):\n",
    "        self.top = None\n",
    "\n",
    "    class __Node:\n",
    "        def __init__(self, data):\n",
    "            self.below = None\n",
    "            self.data = data\n",
    "\n",
    "    def push(self, element):\n",
    "        new_node = self.__Node(element)\n",
    "        if not self.top: #or if self.top ==None\n",
    "            self.top = new_node\n",
    "        else:\n",
    "            old_top = self.top\n",
    "            new_node.behind = old_top\n",
    "            self.top=new_node\n",
    "\n",
    "    def pop(self):\n",
    "        if self.top:\n",
    "            top_value=self.top.data\n",
    "            self.top = self.top.behind\n",
    "            return top_value\n",
    "        raise IndexError(\"Empty Stack\")\n",
    "\n",
    "    def size(self):\n",
    "        count=0\n",
    "        place = self.top\n",
    "        while place is not None:\n",
    "            count+=1\n",
    "            place=place.behind\n",
    "        return count\n",
    "        \n",
    "\n",
    "    def is_empty(self):\n",
    "        emptyStack=False\n",
    "        if self.top== None:\n",
    "            emptyStack=True\n",
    "            return emptyStack\n",
    "        else: \n",
    "            emptyStack=False\n",
    "            return emptyStack\n",
    "\n",
    "    def peek(self):\n",
    "        peek_value=0\n",
    "        if self.top==None:\n",
    "            raise IndexError(\"Empty Stack, no values\")\n",
    "        else:\n",
    "            peek_value =self.top.data\n",
    "            return peek_value\n",
    "            "
   ]
  },
  {
   "cell_type": "code",
   "execution_count": 6,
   "id": "089a76d0-79ae-429f-bd6a-a1fc88ec1b68",
   "metadata": {},
   "outputs": [
    {
     "name": "stdout",
     "output_type": "stream",
     "text": [
      "xileF\n"
     ]
    }
   ],
   "source": [
    "def invert_str_ii(mystring):\n",
    "    stack=StackII()\n",
    "    for letter in mystring:\n",
    "        stack.push(letter)\n",
    "    out =\"\"\n",
    "    while not stack.is_empty():\n",
    "        out +=stack.pop()\n",
    "    return out\n",
    "\n",
    "print(invert_str_ii(\"Felix\"))"
   ]
  },
  {
   "cell_type": "code",
   "execution_count": 7,
   "id": "38d1e9cb-f775-4e40-8ec3-5738f040a5ca",
   "metadata": {},
   "outputs": [],
   "source": [
    "#Simplified approach to Queue (relying on built-in data structures)\n",
    "\n",
    "class Queue: \n",
    "    def __init__(self):\n",
    "        self.items = []\n",
    "\n",
    "    def enqueue(self, element):\n",
    "        self.items.insert(0, element)\n",
    "\n",
    "    def dequeue(self):\n",
    "        return self.items.pop()\n",
    "\n",
    "    def size(self):\n",
    "        return len(self.items)\n",
    "\n",
    "    def is_empty(self):\n",
    "        return self.items==[]\n",
    "\n",
    "    def peek(self):\n",
    "        return self.items[len(self.items-1)]"
   ]
  },
  {
   "cell_type": "markdown",
   "id": "c92c9773-cbe2-4373-a0fa-f8758e9ea493",
   "metadata": {},
   "source": [
    "#Problem 1\n",
    "\n",
    "## implement QueueII, a \"from scratch\" implementation of Queue.\n",
    "\n",
    "### Criteria\n",
    "Your Queue class should, at a minimum cover the following features: \n",
    "1. Must be able to enqueue\n",
    "2. must be able to dequeue\n",
    "3. must have a size method that returns how many elements are in the queue\n",
    "4. must have is_empty method that returns \"True\" if the queue is empty, \"False\" otherwise\n",
    "5. must have a peek method that returns the topmost \"value\" in the queue\n",
    "\n",
    "## Note\n",
    "no built-in data structures, relying on nodes or any other custom build data structures and methods"
   ]
  },
  {
   "cell_type": "code",
   "execution_count": 23,
   "id": "9317dd29-3a71-439e-8049-c25c45753821",
   "metadata": {},
   "outputs": [],
   "source": [
    "class QueueII:\n",
    "    def __init__(self):\n",
    "        self.front = None\n",
    "        self.back = None\n",
    "#change top to front and below to behind, bottom to back\n",
    "    class __Node:\n",
    "        def __init__(self, data):\n",
    "            self.behind = None\n",
    "            self.data = data\n",
    "\n",
    "    def enqueue(self, element):\n",
    "        new_node = self.__Node(element)\n",
    "        if not self.front:\n",
    "            self.front = new_node\n",
    "            self.back = new_node\n",
    "            print(\"added\")\n",
    "        else:\n",
    "            print(\"added\")\n",
    "            self.back.behind = new_node\n",
    "            self.back=new_node\n",
    "            \n",
    "            \n",
    "    def dequeue(self):\n",
    "        if self.front:\n",
    "            front_value=self.front.data\n",
    "            self.front = self.front.behind\n",
    "            if not self.front:\n",
    "                self.back = None\n",
    "            return front_value\n",
    "        raise IndexError(\"Empty Queue\")\n",
    "\n",
    "    def size(self):\n",
    "        count=0\n",
    "        place = self.front\n",
    "        while place is not None:\n",
    "            count+=1\n",
    "            place=place.behind\n",
    "        return count\n",
    "\n",
    "    def is_empty(self):\n",
    "        emptyStack=False\n",
    "        if self.back == None:\n",
    "            emptyStack=True\n",
    "            return emptyStack\n",
    "        else:\n",
    "            emptyStack=False\n",
    "            return emptyStack\n",
    "       \n",
    "    def peek(self):\n",
    "        peek_value=0\n",
    "        if self.front==None:\n",
    "            raise IndexError(\"Empty Queue, no values\")\n",
    "        else:\n",
    "            peek_value =self.front.data\n",
    "            return peek_value\n",
    "\n",
    "#after some research found some easier ways appending a list and also using stack, but \n",
    "#this is an attempt without using append or stack\n",
    "#deleted old reverse code\n",
    "        "
   ]
  },
  {
   "cell_type": "code",
   "execution_count": 24,
   "id": "c2992845-ca56-46c5-88d4-5f306b69803c",
   "metadata": {},
   "outputs": [
    {
     "name": "stdout",
     "output_type": "stream",
     "text": [
      "added\n",
      "added\n",
      "added\n",
      "added\n",
      "added\n",
      "number of problems 5\n",
      "Problem: 6 x 1 = \n"
     ]
    },
    {
     "name": "stdin",
     "output_type": "stream",
     "text": [
      "Your answer is:  6\n"
     ]
    },
    {
     "name": "stdout",
     "output_type": "stream",
     "text": [
      "Correct!\n",
      "Problem: 3 x 10 = \n"
     ]
    },
    {
     "name": "stdin",
     "output_type": "stream",
     "text": [
      "Your answer is:  30\n"
     ]
    },
    {
     "name": "stdout",
     "output_type": "stream",
     "text": [
      "Correct!\n",
      "Problem: 4 x 9 = \n"
     ]
    },
    {
     "name": "stdin",
     "output_type": "stream",
     "text": [
      "Your answer is:  36\n"
     ]
    },
    {
     "name": "stdout",
     "output_type": "stream",
     "text": [
      "Correct!\n",
      "Problem: 10 x 3 = \n"
     ]
    },
    {
     "name": "stdin",
     "output_type": "stream",
     "text": [
      "Your answer is:  3\n"
     ]
    },
    {
     "name": "stdout",
     "output_type": "stream",
     "text": [
      "Incorrect.\n",
      "added\n",
      "Problem: 5 x 2 = \n"
     ]
    },
    {
     "name": "stdin",
     "output_type": "stream",
     "text": [
      "Your answer is:  10\n"
     ]
    },
    {
     "name": "stdout",
     "output_type": "stream",
     "text": [
      "Correct!\n",
      "Problem: 10 x 3 = \n"
     ]
    },
    {
     "name": "stdin",
     "output_type": "stream",
     "text": [
      "Your answer is:  30\n"
     ]
    },
    {
     "name": "stdout",
     "output_type": "stream",
     "text": [
      "Correct!\n"
     ]
    }
   ],
   "source": [
    "from random import randint\n",
    "\n",
    "class Problem:\n",
    "    def __init__(self):\n",
    "        self.is_correct=False\n",
    "        self.lvalue = randint(1,10)\n",
    "        self.rvalue = randint(1,10)\n",
    "        self.result = self.lvalue * self.rvalue\n",
    "\n",
    "    def __str__(self):\n",
    "        return \"%s x %s = \" % (self.lvalue, self.rvalue)\n",
    "\n",
    "    def compare_results(self, answer):\n",
    "        return int(answer) == self.result\n",
    "\n",
    "\n",
    "queue2 = QueueII()\n",
    "problem1 = Problem()\n",
    "problem2 = Problem()\n",
    "problem3 = Problem()\n",
    "problem4 = Problem()\n",
    "problem5 = Problem() \n",
    "\n",
    "\n",
    "queue2.enqueue(problem1)\n",
    "queue2.enqueue(problem2)\n",
    "queue2.enqueue(problem3)\n",
    "queue2.enqueue(problem4)\n",
    "queue2.enqueue(problem5)\n",
    "\n",
    "\n",
    "print(\"number of problems\",queue2.size())\n",
    "\n",
    "point=0\n",
    "\n",
    "while not queue2.is_empty():\n",
    "    current_problem=queue2.peek()\n",
    "    print(\"Problem:\", current_problem)\n",
    "\n",
    "\n",
    "    user_answer = input(\"Your answer is: \")\n",
    "\n",
    "    if current_problem.compare_results(user_answer):\n",
    "        print(\"Correct!\")\n",
    "        point+=1\n",
    "        queue2.dequeue()\n",
    "    else:\n",
    "        print(\"Incorrect.\")\n",
    "        point-=2\n",
    "        queue2.enqueue(queue2.dequeue())\n",
    "\n"
   ]
  },
  {
   "cell_type": "code",
   "execution_count": null,
   "id": "8a3ef877-c7a2-4993-b880-642075cb0745",
   "metadata": {},
   "outputs": [],
   "source": []
  }
 ],
 "metadata": {
  "kernelspec": {
   "display_name": "Python 3 (ipykernel)",
   "language": "python",
   "name": "python3"
  },
  "language_info": {
   "codemirror_mode": {
    "name": "ipython",
    "version": 3
   },
   "file_extension": ".py",
   "mimetype": "text/x-python",
   "name": "python",
   "nbconvert_exporter": "python",
   "pygments_lexer": "ipython3",
   "version": "3.10.6"
  }
 },
 "nbformat": 4,
 "nbformat_minor": 5
}
