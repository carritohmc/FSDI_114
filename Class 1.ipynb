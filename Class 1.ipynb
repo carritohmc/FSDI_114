{
 "cells": [
  {
   "cell_type": "code",
   "execution_count": 1,
   "id": "362f2e77-c0dd-49c6-80da-5f36f4ec0cb0",
   "metadata": {},
   "outputs": [
    {
     "ename": "SyntaxError",
     "evalue": "incomplete input (3600286350.py, line 1)",
     "output_type": "error",
     "traceback": [
      "\u001b[0;36m  Cell \u001b[0;32mIn[1], line 1\u001b[0;36m\u001b[0m\n\u001b[0;31m    for letter in \"hello\":\u001b[0m\n\u001b[0m                          ^\u001b[0m\n\u001b[0;31mSyntaxError\u001b[0m\u001b[0;31m:\u001b[0m incomplete input\n"
     ]
    }
   ],
   "source": []
  },
  {
   "cell_type": "code",
   "execution_count": 2,
   "id": "e765c99c-3c36-4408-b580-44bc95c828c6",
   "metadata": {},
   "outputs": [
    {
     "name": "stdout",
     "output_type": "stream",
     "text": [
      "h\n",
      "e\n",
      "l\n",
      "l\n",
      "o\n"
     ]
    }
   ],
   "source": [
    "for letter in \"hello\":\n",
    "    print (letter)"
   ]
  },
  {
   "cell_type": "markdown",
   "id": "1e524ede-c808-4b75-89dd-0baf9e28c6e0",
   "metadata": {},
   "source": [
    "# Problem 1\n",
    "### Given Two Strings (string_a and string_b) create a function that returns True if these are anagrams of each other, False otherwise.\n",
    "\n",
    "### Criteria\n",
    "Two strings are anagrams of each other if both of the following conditions are met: \n",
    "1. They must use all the same *letters* (the same amount of times).\n",
    "2. They must be of the same exact length.\n",
    "\n",
    "```\n",
    "Examples:\n",
    "heart and earth\n",
    "scar and cars\n",
    "rats and star\n",
    "```"
   ]
  },
  {
   "cell_type": "markdown",
   "id": "c585d911-4d6c-48dc-b8f0-da0ac87eca94",
   "metadata": {},
   "source": [
    "Take in two strings (are we counting compound words as one word?)\\\n",
    "compare the length of the strings\\\n",
    "if they are not the same length, they are not anagrams of each other\\\n",
    "if they are the same length--they have the same number of characters, go to the next step\\\n",
    "convert place each letter of string into a sorted list, and make lowercase\\\n",
    "reorder each string into alphabetical order\\\n",
    "compares the first character to the first character in the other string, if it matches\\ \n",
    "moves to next character\\\n",
    "if it does not, not an anagram\\\n",
    "if it goes through all characters and it matches, it is an anagram\\"
   ]
  },
  {
   "cell_type": "code",
   "execution_count": 8,
   "id": "187f7165-7027-4a8c-9f56-6f7f50eb3035",
   "metadata": {},
   "outputs": [
    {
     "name": "stdout",
     "output_type": "stream",
     "text": [
      "Sorted list for str1: addeillmmooorrtv\n",
      "Sorted list for str2: addeillmmooorrtv\n",
      "The two strings are anagrams.\n"
     ]
    }
   ],
   "source": [
    "def is_anagram(str1, str2):\n",
    "    str1 = ''.join(sorted(str1.replace(\" \", \"\").lower()))\n",
    "    str2 = ''.join(sorted(str2.replace(\" \", \"\").lower()))\n",
    "    \n",
    "    print(f\"Sorted list for str1: {str1}\")\n",
    "    print(f\"Sorted list for str2: {str2}\")\n",
    "    \n",
    "    if str1 == str2:\n",
    "        return True\n",
    "    else:\n",
    "        return False\n",
    "\n",
    "string1 = \"I am Lord Voldemort\"\n",
    "string2 = \"Tom Marvolo Riddle\"\n",
    "if is_anagram(string1, string2):\n",
    "    print(\"The two strings are anagrams.\")\n",
    "else:\n",
    "    print(\"The two strings are not anagrams.\")"
   ]
  },
  {
   "cell_type": "code",
   "execution_count": null,
   "id": "bb175063-1b9c-49ca-9a42-f5604ca1b955",
   "metadata": {},
   "outputs": [],
   "source": []
  }
 ],
 "metadata": {
  "kernelspec": {
   "display_name": "Python 3 (ipykernel)",
   "language": "python",
   "name": "python3"
  },
  "language_info": {
   "codemirror_mode": {
    "name": "ipython",
    "version": 3
   },
   "file_extension": ".py",
   "mimetype": "text/x-python",
   "name": "python",
   "nbconvert_exporter": "python",
   "pygments_lexer": "ipython3",
   "version": "3.10.6"
  }
 },
 "nbformat": 4,
 "nbformat_minor": 5
}
