{
 "cells": [
  {
   "cell_type": "markdown",
   "id": "8515a4e1-3bed-4b69-987a-bc89c1f60a30",
   "metadata": {},
   "source": [
    "# Linked Lists\n",
    "\n",
    "## Two types of linked lists:\n",
    "1. Singly linked lists\n",
    "2. Doubly Linked lists\n",
    "\n"
   ]
  },
  {
   "cell_type": "markdown",
   "id": "33cf690c-3e1f-4025-bf20-ed6cb6790f8c",
   "metadata": {},
   "source": [
    "create a node\\\n",
    "check to see if there are any nodes in the list\\\n",
    "if there are none, the new node is the head node\n",
    "if there are nodes, move the newest node to the end\\\n"
   ]
  },
  {
   "cell_type": "code",
   "execution_count": 12,
   "id": "607e9bb3-17fd-42fa-a3d1-7f2b55e0e532",
   "metadata": {},
   "outputs": [],
   "source": [
    "class SinglyLinkList:\n",
    "    def __init__(self):\n",
    "        self.head = None\n",
    "        #TODO: What would happen if you also maintained self.tail?\n",
    "\n",
    "    class __Node:\n",
    "        def __init__(self, data):\n",
    "            self.data = data\n",
    "            self.next= None\n",
    "\n",
    "    def append(self, value):\n",
    "        new_node = self.__Node(value)\n",
    "        if self.head==None:\n",
    "            self.head=new_node\n",
    "        else:\n",
    "            current=self.head\n",
    "            while current.next!=None:\n",
    "                current = current.next\n",
    "            current.next=new_node          \n",
    "            \n",
    "    def insert(self, index, value):\n",
    "        new_node= self.__Node(value)\n",
    "\n",
    "        if index==0 or not self.head:\n",
    "            new_node.next=self.head\n",
    "            self.head=new_node\n",
    "        else:\n",
    "            count=0\n",
    "            current = self.head\n",
    "            prev= None\n",
    "            while current.next!=None and index!=count:\n",
    "                prev =current\n",
    "                current = current.next\n",
    "                count+=1\n",
    "            if index==count:\n",
    "                new_node.next=current\n",
    "                prev.next= new_node\n",
    "            else:\n",
    "                current.next = new_node\n",
    "        \n",
    "\n",
    "    def remove(self, value):\n",
    "        # remove first occurence of value, ValueError if not present\n",
    "        found =False\n",
    "        if self.head:\n",
    "            current = self.head\n",
    "            prev = None\n",
    "            while current.next and not found:\n",
    "                if current.data==value:\n",
    "                    found=True\n",
    "                else:\n",
    "                    prev = current\n",
    "                    current = current.next\n",
    "            if prev and found:\n",
    "                prev.next= current.next\n",
    "            if not prev and found:\n",
    "                self.head= None\n",
    "        raise ValueError(\"Target value not in list\")\n",
    "\n",
    "    def index(self, value):\n",
    "        current = self.head\n",
    "        index=0\n",
    "\n",
    "        while current: \n",
    "            if current.data == value:\n",
    "                return index\n",
    "            current = current.next\n",
    "            index+=1\n",
    "        raise ValueError(\"Value not found\")\n",
    "\n",
    "    def access(self, index):\n",
    "        #return value of target index\n",
    "        pass\n",
    "\n",
    "    #create an empty string, that will return no matter what\n",
    "    #start at the beginning, \n",
    "    #if there is more than one element, add it, and place a comma after each node that\n",
    "    # does not have a next None\n",
    "    def __str__(self):\n",
    "        resultString=\"[\"\n",
    "        current =self.head\n",
    "\n",
    "        while current!= None:\n",
    "            resultString+= str(current.data)\n",
    "            if current.next !=None:\n",
    "                resultString+=\", \"\n",
    "            current= current.next\n",
    "        resultString+= \"]\"\n",
    "        return resultString"
   ]
  },
  {
   "cell_type": "code",
   "execution_count": 10,
   "id": "1c65545f-f43e-488b-b45f-b9af5b6c2a71",
   "metadata": {},
   "outputs": [
    {
     "name": "stdout",
     "output_type": "stream",
     "text": [
      "[H, e, l, l, o, ,,  , w, o, r, l, d]\n"
     ]
    }
   ],
   "source": [
    "sll = SinglyLinkList()\n",
    "for letter in \"Hello, world\":\n",
    "    sll.append(letter)\n",
    "\n",
    "print(sll)"
   ]
  },
  {
   "cell_type": "code",
   "execution_count": 11,
   "id": "f69c7fee-1bca-4015-8082-73ded488a8bb",
   "metadata": {},
   "outputs": [
    {
     "name": "stdout",
     "output_type": "stream",
     "text": [
      "[0]\n",
      "[-1, 0]\n"
     ]
    }
   ],
   "source": [
    "py_list = []\n",
    "py_list.insert(0,0)\n",
    "print(py_list)\n",
    "\n",
    "py_list.insert(0,-1)\n",
    "print(py_list)"
   ]
  },
  {
   "cell_type": "code",
   "execution_count": null,
   "id": "54d2c5d3-76d0-4329-ba32-a8a0fe615015",
   "metadata": {},
   "outputs": [],
   "source": []
  }
 ],
 "metadata": {
  "kernelspec": {
   "display_name": "Python 3 (ipykernel)",
   "language": "python",
   "name": "python3"
  },
  "language_info": {
   "codemirror_mode": {
    "name": "ipython",
    "version": 3
   },
   "file_extension": ".py",
   "mimetype": "text/x-python",
   "name": "python",
   "nbconvert_exporter": "python",
   "pygments_lexer": "ipython3",
   "version": "3.10.6"
  }
 },
 "nbformat": 4,
 "nbformat_minor": 5
}
